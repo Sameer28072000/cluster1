{
 "cells": [
  {
   "cell_type": "markdown",
   "id": "cea6cc42-dca1-4e0e-b05d-8e38ba149fea",
   "metadata": {},
   "source": [
    "Q1. What are the different types of clustering algorithms, and how do they differ in terms of their approach\n",
    "and underlying assumptions?"
   ]
  },
  {
   "cell_type": "code",
   "execution_count": null,
   "id": "83e1e85b-a234-4b8f-a450-7e7f288c3a14",
   "metadata": {},
   "outputs": [],
   "source": [
    "Ans:-There are three types of clustering algorithm are:-\n",
    "      i.K-means clustering\n",
    "       ii.hierarichal clustering\n",
    "         iii.DBSCAN clustering"
   ]
  },
  {
   "cell_type": "markdown",
   "id": "bb7a2d70-30bd-4350-8b5c-937dc12bcba7",
   "metadata": {},
   "source": [
    "Q2.What is K-means clustering, and how does it work?"
   ]
  },
  {
   "cell_type": "code",
   "execution_count": null,
   "id": "2fcfeb29-0d33-4692-9ae3-ca72fbf13ae8",
   "metadata": {},
   "outputs": [],
   "source": [
    "Ans:-K-means clustering nothing but it is the grouping of same data points.\n",
    "      steps:-\n",
    "       i.initialize some k-centroid\n",
    "        ii.points that are nearest to the centroid--->group\n",
    "         iii.move the centroid---->mean\n",
    "            \n",
    "            This process will continue untill not found two cluster1 & 2."
   ]
  },
  {
   "cell_type": "markdown",
   "id": "4481a018-e7c7-4f56-a314-f7885d17a6e6",
   "metadata": {},
   "source": [
    "Q3. What are some advantages and limitations of K-means clustering compared to other clustering\n",
    "techniques?"
   ]
  },
  {
   "cell_type": "code",
   "execution_count": null,
   "id": "c075acfc-69f9-4008-acef-b1f77c087451",
   "metadata": {},
   "outputs": [],
   "source": [
    "Ans:- Advantages  of K-means clustering:-\n",
    "       i.scalability\n",
    "         ii.simplicity\n",
    "           iii.fast coverage\n",
    "            \n",
    "        limitations of K-means clustering:-\n",
    "          i.fixed no.of cluster\n",
    "            ii.sensitive to outlier\n",
    "             iii.sensitivity to initial centroid"
   ]
  },
  {
   "cell_type": "markdown",
   "id": "a4477ae4-7c31-4890-883d-f07827165bd4",
   "metadata": {},
   "source": [
    "Q4. How do you determine the optimal number of clusters in K-means clustering, and what are some\n",
    "common methods for doing so?"
   ]
  },
  {
   "cell_type": "code",
   "execution_count": null,
   "id": "f6527f20-2bde-4722-b779-2331e00cdd86",
   "metadata": {},
   "outputs": [],
   "source": [
    "Ans:-There are some common methods to find optimal no. of clusters in k-means clustering are:-\n",
    "       i.Elbow method\n",
    "        ii.WCSS(within cluster sum of square)"
   ]
  },
  {
   "cell_type": "markdown",
   "id": "4812fd5d-68b0-4b20-bc9b-4182301cced1",
   "metadata": {},
   "source": [
    "Q5. What are some applications of K-means clustering in real-world scenarios, and how has it been used\n",
    "to solve specific problems?"
   ]
  },
  {
   "cell_type": "code",
   "execution_count": null,
   "id": "905ba0df-3573-4376-99e8-f05324ab3b24",
   "metadata": {},
   "outputs": [],
   "source": [
    "Ans:-Applications of K-means clustering in real-world scenarios are:-\n",
    "        i.customer segmentation\n",
    "         ii.anamoly detection\n",
    "           iii.recommendation system"
   ]
  },
  {
   "cell_type": "markdown",
   "id": "2c1e21e5-a2d2-4450-8681-83bd24be8587",
   "metadata": {},
   "source": [
    "Q6. How do you interpret the output of a K-means clustering algorithm, and what insights can you derive\n",
    "from the resulting clusters?"
   ]
  },
  {
   "cell_type": "code",
   "execution_count": null,
   "id": "e106c3f9-ec73-4591-9847-db7fe1311291",
   "metadata": {},
   "outputs": [],
   "source": [
    "Ans:-Some aspects to interpret the output of a K-means clustering algorithm:-\n",
    "       i.cluster center \n",
    "        ii.cluster assignment\n",
    "          iii.cluster size & balance\n",
    "            iv.cluster seperation"
   ]
  },
  {
   "cell_type": "markdown",
   "id": "24f29a66-4ad1-4ec6-9f1b-36f7f932f156",
   "metadata": {},
   "source": [
    "Q7. What are some common challenges in implementing K-means clustering, and how can you address\n",
    "them?"
   ]
  },
  {
   "cell_type": "code",
   "execution_count": null,
   "id": "7e74b009-3434-4b17-bf17-a13b99821772",
   "metadata": {},
   "outputs": [],
   "source": [
    "Ans:-Common challenges in implementing K-means clustering:-\n",
    "      i.datermine optimal no. of solution\n",
    "       ii."
   ]
  }
 ],
 "metadata": {
  "kernelspec": {
   "display_name": "Python 3 (ipykernel)",
   "language": "python",
   "name": "python3"
  },
  "language_info": {
   "codemirror_mode": {
    "name": "ipython",
    "version": 3
   },
   "file_extension": ".py",
   "mimetype": "text/x-python",
   "name": "python",
   "nbconvert_exporter": "python",
   "pygments_lexer": "ipython3",
   "version": "3.10.8"
  }
 },
 "nbformat": 4,
 "nbformat_minor": 5
}
